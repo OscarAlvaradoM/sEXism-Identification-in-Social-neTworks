{
 "cells": [
  {
   "cell_type": "markdown",
   "id": "51cb4063",
   "metadata": {},
   "source": [
    "# Aprendizaje profundo para detección de sexismo\n",
    "- Óscar Alvarado\n",
    "- Dante Bermúdez"
   ]
  },
  {
   "cell_type": "markdown",
   "id": "dd56be8a",
   "metadata": {},
   "source": [
    "## Índice"
   ]
  },
  {
   "cell_type": "markdown",
   "id": "5fcf2160",
   "metadata": {},
   "source": [
    "## Bibliotecas"
   ]
  },
  {
   "cell_type": "code",
   "execution_count": 1,
   "id": "842ed64c",
   "metadata": {},
   "outputs": [],
   "source": [
    "import numpy as np\n",
    "import pandas as pd\n",
    "import matplotlib.pyplot as plt\n",
    "import string\n",
    "\n",
    "import re\n",
    "from nltk.tokenize import TweetTokenizer\n",
    "\n",
    "from sklearn.model_selection import train_test_split\n",
    "\n",
    "from sklearn.feature_extraction.text import CountVectorizer\n",
    "\n",
    "from itertools import islice as take\n",
    "import torch\n",
    "from torch import nn\n",
    "# !pip install torchinfo\n",
    "from torchinfo import summary\n",
    "from torch.utils.data import TensorDataset, DataLoader\n",
    "import torch.optim as optim\n",
    "import torch.nn.functional as F\n",
    "\n",
    "# barras de progreso\n",
    "from tqdm import trange"
   ]
  },
  {
   "cell_type": "code",
   "execution_count": 2,
   "id": "3e3a03b5",
   "metadata": {},
   "outputs": [
    {
     "name": "stderr",
     "output_type": "stream",
     "text": [
      "/home/oscar/anaconda3/envs/pytorch/lib/python3.8/site-packages/torch/cuda/__init__.py:52: UserWarning: CUDA initialization: CUDA unknown error - this may be due to an incorrectly set up environment, e.g. changing env variable CUDA_VISIBLE_DEVICES after program start. Setting the available devices to be zero. (Triggered internally at  /opt/conda/conda-bld/pytorch_1616554793803/work/c10/cuda/CUDAFunctions.cpp:109.)\n",
      "  return torch._C._cuda_getDeviceCount() > 0\n"
     ]
    },
    {
     "data": {
      "text/plain": [
       "device(type='cpu')"
      ]
     },
     "execution_count": 2,
     "metadata": {},
     "output_type": "execute_result"
    }
   ],
   "source": [
    "device = torch.device('cuda:0' if torch.cuda.is_available() else 'cpu')\n",
    "device"
   ]
  },
  {
   "cell_type": "markdown",
   "id": "82d68d5c",
   "metadata": {},
   "source": [
    "## Preprocesamiento"
   ]
  },
  {
   "cell_type": "code",
   "execution_count": 3,
   "id": "add98357",
   "metadata": {},
   "outputs": [],
   "source": [
    "def colapsar_repeticion(match):\n",
    "    elemento = match.groups()\n",
    "    assert len(match.groups()) == 1\n",
    "    return elemento[0]\n",
    "\n",
    "def procesar_tweet(tweet):\n",
    "    tweet = tweet.lower()\n",
    "    regex_usuario = re.compile(r\"@[\\w\\d]+\")\n",
    "    tweet = regex_usuario.sub(\"@usuario\", tweet)\n",
    "    \n",
    "    regex_link = re.compile(r\"\\b(?:https?://|www\\.)\\S+\\b\")\n",
    "    tweet = regex_link.sub(\"<link>\", tweet)\n",
    "    \n",
    "    regex_frac = re.compile(r\"\\d+/\\d+\\w*\")\n",
    "    tweet = regex_frac.sub(\"<número>\", tweet)\n",
    "    \n",
    "    regex_numbers = re.compile(r\"\\d+\\w*\")\n",
    "    tweet = regex_numbers.sub(\"<número>\", tweet)\n",
    "    \n",
    "    tokenizer = TweetTokenizer(reduce_len=True)\n",
    "    tokens = tokenizer.tokenize(tweet)\n",
    "    \n",
    "    regex_collapse = re.compile(r\"(\\w)\\1{2}\")\n",
    "    \n",
    "    tokens = [regex_collapse.sub(colapsar_repeticion, token) for token in tokens]\n",
    "    \n",
    "    simbolos = r\"\"\"'@¡\"#$%&'()*+,-./:;<=>¿[\\]^_`{|}~'\"\"\"\n",
    "    simbolos = set(simbolos) | set([\"--->\", \"...\", \". . .\", \". .\", \". ...\", \"..\"])\n",
    "    tokens = [token for token in tokens if token not in simbolos]\n",
    "    \n",
    "    return tokens"
   ]
  },
  {
   "cell_type": "code",
   "execution_count": 4,
   "id": "bf553a11",
   "metadata": {},
   "outputs": [],
   "source": [
    "def add_feature(X, feature_to_add):\n",
    "    \"\"\"\n",
    "    Returns sparse feature matrix with added feature.\n",
    "    feature_to_add can also be a list of features.\n",
    "    \"\"\"\n",
    "    from scipy.sparse import csr_matrix, hstack\n",
    "    return hstack([X, csr_matrix(feature_to_add).T], 'csr')"
   ]
  },
  {
   "cell_type": "code",
   "execution_count": 5,
   "id": "be04ed50",
   "metadata": {},
   "outputs": [
    {
     "data": {
      "text/html": [
       "<div>\n",
       "<style scoped>\n",
       "    .dataframe tbody tr th:only-of-type {\n",
       "        vertical-align: middle;\n",
       "    }\n",
       "\n",
       "    .dataframe tbody tr th {\n",
       "        vertical-align: top;\n",
       "    }\n",
       "\n",
       "    .dataframe thead th {\n",
       "        text-align: right;\n",
       "    }\n",
       "</style>\n",
       "<table border=\"1\" class=\"dataframe\">\n",
       "  <thead>\n",
       "    <tr style=\"text-align: right;\">\n",
       "      <th></th>\n",
       "      <th>test_case</th>\n",
       "      <th>id</th>\n",
       "      <th>source</th>\n",
       "      <th>language</th>\n",
       "      <th>text</th>\n",
       "      <th>task1</th>\n",
       "      <th>task2</th>\n",
       "    </tr>\n",
       "  </thead>\n",
       "  <tbody>\n",
       "    <tr>\n",
       "      <th>0</th>\n",
       "      <td>EXIST2021</td>\n",
       "      <td>1</td>\n",
       "      <td>twitter</td>\n",
       "      <td>en</td>\n",
       "      <td>She calls herself \"anti-feminazi\" how about sh...</td>\n",
       "      <td>sexist</td>\n",
       "      <td>ideological-inequality</td>\n",
       "    </tr>\n",
       "    <tr>\n",
       "      <th>1</th>\n",
       "      <td>EXIST2021</td>\n",
       "      <td>2</td>\n",
       "      <td>twitter</td>\n",
       "      <td>en</td>\n",
       "      <td>Now, back to these women, the brave and the be...</td>\n",
       "      <td>non-sexist</td>\n",
       "      <td>non-sexist</td>\n",
       "    </tr>\n",
       "    <tr>\n",
       "      <th>2</th>\n",
       "      <td>EXIST2021</td>\n",
       "      <td>3</td>\n",
       "      <td>twitter</td>\n",
       "      <td>en</td>\n",
       "      <td>@CurvyBandida @Xalynne_B Wow, your skirt is ve...</td>\n",
       "      <td>sexist</td>\n",
       "      <td>objectification</td>\n",
       "    </tr>\n",
       "    <tr>\n",
       "      <th>3</th>\n",
       "      <td>EXIST2021</td>\n",
       "      <td>4</td>\n",
       "      <td>twitter</td>\n",
       "      <td>en</td>\n",
       "      <td>@AurelieGuiboud Incredible!  Beautiful!But I l...</td>\n",
       "      <td>non-sexist</td>\n",
       "      <td>non-sexist</td>\n",
       "    </tr>\n",
       "    <tr>\n",
       "      <th>4</th>\n",
       "      <td>EXIST2021</td>\n",
       "      <td>5</td>\n",
       "      <td>twitter</td>\n",
       "      <td>en</td>\n",
       "      <td>i find it extremely hard to believe that kelly...</td>\n",
       "      <td>non-sexist</td>\n",
       "      <td>non-sexist</td>\n",
       "    </tr>\n",
       "  </tbody>\n",
       "</table>\n",
       "</div>"
      ],
      "text/plain": [
       "   test_case  id   source language  \\\n",
       "0  EXIST2021   1  twitter       en   \n",
       "1  EXIST2021   2  twitter       en   \n",
       "2  EXIST2021   3  twitter       en   \n",
       "3  EXIST2021   4  twitter       en   \n",
       "4  EXIST2021   5  twitter       en   \n",
       "\n",
       "                                                text       task1  \\\n",
       "0  She calls herself \"anti-feminazi\" how about sh...      sexist   \n",
       "1  Now, back to these women, the brave and the be...  non-sexist   \n",
       "2  @CurvyBandida @Xalynne_B Wow, your skirt is ve...      sexist   \n",
       "3  @AurelieGuiboud Incredible!  Beautiful!But I l...  non-sexist   \n",
       "4  i find it extremely hard to believe that kelly...  non-sexist   \n",
       "\n",
       "                    task2  \n",
       "0  ideological-inequality  \n",
       "1              non-sexist  \n",
       "2         objectification  \n",
       "3              non-sexist  \n",
       "4              non-sexist  "
      ]
     },
     "execution_count": 5,
     "metadata": {},
     "output_type": "execute_result"
    }
   ],
   "source": [
    "df_train = pd.read_csv(\"../datos/training/EXIST2021_training.tsv\", sep=\"\\t\")\n",
    "df_train.head()"
   ]
  },
  {
   "cell_type": "code",
   "execution_count": 6,
   "id": "718d54c4",
   "metadata": {},
   "outputs": [],
   "source": [
    "tweets = df_train[\"text\"].apply(procesar_tweet)\n",
    "labels1 = df_train[\"task1\"].map({\"sexist\":1, \"non-sexist\":0}).values"
   ]
  },
  {
   "cell_type": "markdown",
   "id": "43d3c176",
   "metadata": {},
   "source": [
    "[Volver al índice](#Índice)"
   ]
  },
  {
   "cell_type": "markdown",
   "id": "c308f5b1",
   "metadata": {},
   "source": [
    "## Train - test"
   ]
  },
  {
   "cell_type": "code",
   "execution_count": 7,
   "id": "7b015701",
   "metadata": {},
   "outputs": [],
   "source": [
    "train_tweets, test_tweets, train_labels, test_labels = train_test_split(tweets, labels1, test_size=0.2,\n",
    "                                                                       random_state = 42)"
   ]
  },
  {
   "cell_type": "code",
   "execution_count": 8,
   "id": "040f559d",
   "metadata": {},
   "outputs": [
    {
     "data": {
      "text/plain": [
       "<5581x8293 sparse matrix of type '<class 'numpy.int64'>'\n",
       "\twith 127143 stored elements in Compressed Sparse Row format>"
      ]
     },
     "execution_count": 8,
     "metadata": {},
     "output_type": "execute_result"
    }
   ],
   "source": [
    "vect = CountVectorizer(min_df=2, tokenizer=lambda x:x, preprocessor=lambda x:x)\n",
    "vect.fit_transform(train_tweets)"
   ]
  },
  {
   "cell_type": "code",
   "execution_count": 9,
   "id": "c4ad49f8",
   "metadata": {},
   "outputs": [
    {
     "name": "stdout",
     "output_type": "stream",
     "text": [
      "[249, 249, 249, 8192, 7293, 2802, 1, 4928, 2, 2, 8214, 5160, 1, 5008, 850, 6535, 6138, 2690, 7697, 1, 7293, 2802, 5464, 8192, 5103, 7293, 4415, 7994, 250, 1, 4769, 6935, 4415, 6138, 3446, 2545, 3028, 8192, 4415, 6138, 5103, 6138, 6622, 7293, 1986, 4971, 988, 5616, 6935, 4760, 7319, 1934]\n"
     ]
    }
   ],
   "source": [
    "word2idx = {word: idx for idx, word in enumerate(vect.get_feature_names(), 2)}\n",
    "word2idx[\"<PAD>\"] = 0\n",
    "word2idx[\"<START>\"] = 1\n",
    "X_train = [[word2idx.get(word, 1) for word in tweet] for tweet in train_tweets]\n",
    "print(X_train[0])"
   ]
  },
  {
   "cell_type": "code",
   "execution_count": 10,
   "id": "05d9bdd4",
   "metadata": {},
   "outputs": [
    {
     "name": "stdout",
     "output_type": "stream",
     "text": [
      "[249, 249, 5103, 2697, 6138, 5103, 2034, 5083, 7697, 2697, 6138, 2697, 5336, 1, 3103, 2034, 7238, 4541, 1591, 7481, 4225, 4946, 6138, 3518, 2604, 2545, 3320, 8192, 2296, 4541, 5103, 5814, 7328, 5008, 2604, 1749, 2034, 4191, 4945, 1, 4978, 6823, 5103, 5814, 1, 250, 6021, 8192, 3458, 2031, 1591, 4191, 1]\n"
     ]
    }
   ],
   "source": [
    "X_test = [[word2idx.get(word, 1) for word in tweet] for tweet in test_tweets]\n",
    "print(X_test[0])"
   ]
  },
  {
   "cell_type": "code",
   "execution_count": 11,
   "id": "da001d01",
   "metadata": {},
   "outputs": [
    {
     "data": {
      "text/plain": [
       "102"
      ]
     },
     "execution_count": 11,
     "metadata": {},
     "output_type": "execute_result"
    }
   ],
   "source": [
    "max_len = max([len(X) for X in X_train])\n",
    "max_len"
   ]
  },
  {
   "cell_type": "code",
   "execution_count": 12,
   "id": "bb2f9b1d",
   "metadata": {},
   "outputs": [
    {
     "data": {
      "text/plain": [
       "8295"
      ]
     },
     "execution_count": 12,
     "metadata": {},
     "output_type": "execute_result"
    }
   ],
   "source": [
    "# Palabras en el vocabulario\n",
    "len(word2idx)"
   ]
  },
  {
   "cell_type": "code",
   "execution_count": 13,
   "id": "cc39f50e",
   "metadata": {},
   "outputs": [],
   "source": [
    "# Padding\n",
    "for idx, X in enumerate(X_train):\n",
    "    zeros = [0 for _ in range(max_len)]\n",
    "    len_x = len(X)\n",
    "    zeros[-len_x:] = X\n",
    "    X_train[idx] = zeros\n",
    "    \n",
    "for idx, X in enumerate(X_test):\n",
    "    zeros = [0 for _ in range(max_len)]\n",
    "    len_x = len(X)\n",
    "    zeros[-len_x:] = X\n",
    "    X_test[idx] = zeros"
   ]
  },
  {
   "cell_type": "markdown",
   "id": "ce354684",
   "metadata": {},
   "source": [
    "[Volver al índice](#Índice)"
   ]
  },
  {
   "cell_type": "markdown",
   "id": "5f2e2638",
   "metadata": {},
   "source": [
    "## Arquitectura básica"
   ]
  },
  {
   "cell_type": "code",
   "execution_count": 15,
   "id": "ee5a6c3d",
   "metadata": {},
   "outputs": [],
   "source": [
    "# Definición de arquitectura\n",
    "class CNN(nn.Module):    \n",
    "    def __init__(self, num_labels=2, num_embeddings = len(word2idx), embedding_dim = max_len,\n",
    "        kernels = 300, k_cnn = 9, pad_cnn = 0, dilation_cnn = 1, step_cnn = 1, k_pool = 1,\n",
    "        pad_pool = 0, dilation_pool = 1, step_pool = 1):\n",
    "        super(CNN, self).__init__()\n",
    "        \n",
    "        \n",
    "        # Capa para Embeddings\n",
    "        self.emb = nn.Embedding(num_embeddings, embedding_dim)\n",
    "        \n",
    "        # Capa convolucional\n",
    "        self.cnn = nn.Sequential(\n",
    "            nn.Conv1d(in_channels = embedding_dim, out_channels = kernels, kernel_size = k_cnn, padding = pad_cnn,\n",
    "                     dilation = dilation_cnn, stride = step_cnn),\n",
    "            # Normalización por lotes\n",
    "            #nn.BatchNorm1d(kernels),\n",
    "            # Función de activación\n",
    "            nn.ReLU(),\n",
    "            # Pooling\n",
    "            nn.MaxPool1d(kernel_size = k_pool, padding = pad_pool,\n",
    "                     dilation = dilation_pool, stride = step_pool))\n",
    "        \n",
    "        # Aplanado\n",
    "        self.flatten = nn.Flatten()\n",
    "        \n",
    "        # Calculando el número de características\n",
    "        out_cnn = int((max_len + 2*pad_cnn - dilation_cnn*(k_cnn - 1) - 1)/step_cnn) + 1\n",
    "        out_pool = int((out_cnn + 2*pad_pool - dilation_pool*(k_pool - 1) - 1)/step_pool) + 1\n",
    "        \n",
    "        self.num_features = kernels*out_pool\n",
    "        \n",
    "        self.dropout = nn.Dropout(0.2)\n",
    "        #Clasificación\n",
    "        self.cls = nn.Linear(self.num_features, num_labels)\n",
    "        \n",
    "        \n",
    "    \n",
    "    # metodo para inferencia\n",
    "    def forward(self, x):\n",
    "        x = self.emb(x)\n",
    "        x = x.permute(0, 2, 1)\n",
    "        x = self.cnn(x)\n",
    "        x = self.flatten(x)\n",
    "        #x = self.dropout(x)\n",
    "        x = self.cls(x)\n",
    "        return x"
   ]
  },
  {
   "cell_type": "markdown",
   "id": "86a1880d",
   "metadata": {},
   "source": [
    "[Volver al índice](#Índice)"
   ]
  },
  {
   "cell_type": "code",
   "execution_count": 16,
   "id": "4d0d7c02",
   "metadata": {},
   "outputs": [
    {
     "name": "stdout",
     "output_type": "stream",
     "text": [
      "CNN(\n",
      "  (emb): Embedding(8295, 102)\n",
      "  (cnn): Sequential(\n",
      "    (0): Conv1d(102, 300, kernel_size=(9,), stride=(1,))\n",
      "    (1): ReLU()\n",
      "    (2): MaxPool1d(kernel_size=1, stride=1, padding=0, dilation=1, ceil_mode=False)\n",
      "  )\n",
      "  (flatten): Flatten(start_dim=1, end_dim=-1)\n",
      "  (dropout): Dropout(p=0.2, inplace=False)\n",
      "  (cls): Linear(in_features=28200, out_features=2, bias=True)\n",
      ")\n"
     ]
    }
   ],
   "source": [
    "model = CNN()\n",
    "print(model)"
   ]
  },
  {
   "cell_type": "code",
   "execution_count": 17,
   "id": "d23c47b2",
   "metadata": {},
   "outputs": [
    {
     "name": "stdout",
     "output_type": "stream",
     "text": [
      "torch.Size([1, 102]) => torch.Size([1, 2])\n"
     ]
    }
   ],
   "source": [
    "# inferencia con datos sintéticos\n",
    "x = torch.tensor([X_train[0]])\n",
    "y = model(x)\n",
    "print(f'{x.shape} => {y.shape}')"
   ]
  },
  {
   "cell_type": "code",
   "execution_count": 18,
   "id": "740bb065",
   "metadata": {},
   "outputs": [],
   "source": [
    "X_train_t = torch.Tensor(X_train).to(torch.int64) # transform to torch tensor\n",
    "y_train_t = torch.Tensor(train_labels).to(torch.int64)\n",
    "\n",
    "trn_dataset = TensorDataset(X_train_t, y_train_t) # create your datset\n",
    "trn_dl = DataLoader(trn_dataset) # create your dataloader"
   ]
  },
  {
   "cell_type": "code",
   "execution_count": 19,
   "id": "8db1772d",
   "metadata": {},
   "outputs": [],
   "source": [
    "X_test_t = torch.Tensor(X_test).to(torch.int64) # transform to torch tensor\n",
    "y_test_t = torch.Tensor(test_labels).to(torch.int64)\n",
    "\n",
    "tst_dataset = TensorDataset(X_test_t, y_test_t) # create your datset\n",
    "tst_dl = DataLoader(tst_dataset) # create your dataloader"
   ]
  },
  {
   "cell_type": "markdown",
   "id": "8853ee7f",
   "metadata": {},
   "source": [
    "[Volver al índice](#Índice)"
   ]
  },
  {
   "cell_type": "markdown",
   "id": "90f1f69d",
   "metadata": {},
   "source": [
    "## Modelo paralelo"
   ]
  },
  {
   "cell_type": "code",
   "execution_count": 35,
   "id": "50d328be",
   "metadata": {},
   "outputs": [],
   "source": [
    "def train_epoch_GPU(dl, model, opt):\n",
    "\n",
    "    # por cada lote\n",
    "    for idx, (x, y_true) in enumerate(dl):        \n",
    "        # computamos logits\n",
    "        y_lgts = model(x.to(device))\n",
    "        \n",
    "        # computamos la pérdida\n",
    "        loss = F.cross_entropy(y_lgts, y_true.to(device))\n",
    "        \n",
    "        # vaciamos los gradientes\n",
    "        opt.zero_grad()\n",
    "        \n",
    "        # retropropagamos\n",
    "        loss.backward()\n",
    "        \n",
    "        # actualizamos parámetros\n",
    "        opt.step()\n",
    "\n",
    "\n",
    "def eval_epoch_GPU(dl, model, num_batches=None):\n",
    "\n",
    "    # evitamos que se registren las operaciones \n",
    "    # en la gráfica de cómputo\n",
    "    with torch.no_grad():\n",
    "\n",
    "        # historiales\n",
    "        losses, accs = [], []\n",
    "\n",
    "        # validación de la época con num_batches\n",
    "        # si num_batches==None, se usan todos los lotes\n",
    "        for x, y_true in take(dl, num_batches):\n",
    "\n",
    "            # computamos los logits\n",
    "            y_lgts = model(x.to(device))\n",
    "\n",
    "            # computamos los puntajes\n",
    "            y_prob = F.softmax(y_lgts, 1)\n",
    "\n",
    "            # computamos la clases\n",
    "            y_pred = torch.argmax(y_prob, 1)\n",
    "\n",
    "            # computamos la pérdida\n",
    "            loss = F.cross_entropy(y_lgts, y_true.to(device))\n",
    "\n",
    "            # computamos la exactitud\n",
    "            acc = (y_true.to(device) == y_pred).type(torch.float32).mean()\n",
    "\n",
    "            # guardamos históricos\n",
    "            losses.append(loss.item())\n",
    "            accs.append(acc.item())\n",
    "\n",
    "        # promediamos\n",
    "        loss = np.mean(losses)\n",
    "        acc = np.mean(accs)\n",
    "\n",
    "        return loss, acc\n",
    "        \n",
    "        \n",
    "def train_GPU(model, trn_dl, tst_dl, lr=1e-3, epochs=20,\n",
    "          trn_batches=None, tst_batches=None):\n",
    "\n",
    "    # historiales\n",
    "    loss_hist, acc_hist = [], []\n",
    "    \n",
    "    # optimizador\n",
    "    opt = optim.SGD(model.parameters(), lr=lr)\n",
    "\n",
    "    # ciclo de entrenamiento\n",
    "    for epoch in trange(epochs):\n",
    "\n",
    "        # entrenamos la época\n",
    "        train_epoch_GPU(trn_dl, model, opt)\n",
    "\n",
    "        # evaluamos la época en entrenamiento\n",
    "        trn_loss, trn_acc = eval_epoch_GPU(trn_dl, model, trn_batches)\n",
    "        # evaluamos la época en prueba\n",
    "        tst_loss, tst_acc = eval_epoch_GPU(tst_dl, model, tst_batches)\n",
    "\n",
    "        # guardamos historial\n",
    "        loss_hist.append([trn_loss, tst_loss])\n",
    "        acc_hist.append([trn_acc, tst_acc])\n",
    "\n",
    "        # imprimimos progreso\n",
    "        print(f'E{epoch:02} '\n",
    "              f'loss=[{trn_loss:6.2f},{tst_loss:6.2f}] '\n",
    "              f'acc=[{trn_acc:5.2f},{tst_acc:5.2f}]')\n",
    "\n",
    "    return loss_hist, acc_hist"
   ]
  },
  {
   "cell_type": "markdown",
   "id": "e13b94e9",
   "metadata": {},
   "source": [
    "[Volver al índice](#Índice)"
   ]
  },
  {
   "cell_type": "code",
   "execution_count": 86,
   "id": "a9d13458",
   "metadata": {},
   "outputs": [
    {
     "name": "stderr",
     "output_type": "stream",
     "text": [
      " 20%|██        | 1/5 [00:58<03:53, 58.37s/it]"
     ]
    },
    {
     "name": "stdout",
     "output_type": "stream",
     "text": [
      "E00 loss=[ 40.15, 73.97] acc=[83.71,57.23]\n"
     ]
    },
    {
     "name": "stderr",
     "output_type": "stream",
     "text": [
      "\r",
      " 40%|████      | 2/5 [01:56<02:55, 58.44s/it]"
     ]
    },
    {
     "name": "stdout",
     "output_type": "stream",
     "text": [
      "E01 loss=[ 18.84, 77.20] acc=[95.45,59.17]\n"
     ]
    },
    {
     "name": "stderr",
     "output_type": "stream",
     "text": [
      "\r",
      " 60%|██████    | 3/5 [02:57<01:58, 59.23s/it]"
     ]
    },
    {
     "name": "stdout",
     "output_type": "stream",
     "text": [
      "E02 loss=[ 10.99, 85.30] acc=[98.26,59.81]\n"
     ]
    },
    {
     "name": "stderr",
     "output_type": "stream",
     "text": [
      "\r",
      " 80%|████████  | 4/5 [03:58<01:00, 60.09s/it]"
     ]
    },
    {
     "name": "stdout",
     "output_type": "stream",
     "text": [
      "E03 loss=[  7.43, 92.35] acc=[99.07,60.82]\n"
     ]
    },
    {
     "name": "stderr",
     "output_type": "stream",
     "text": [
      "100%|██████████| 5/5 [04:59<00:00, 59.93s/it]"
     ]
    },
    {
     "name": "stdout",
     "output_type": "stream",
     "text": [
      "E04 loss=[  5.70, 98.46] acc=[99.52,61.53]\n",
      "CPU times: user 30min 16s, sys: 8min 7s, total: 38min 24s\n",
      "Wall time: 4min 59s\n"
     ]
    },
    {
     "name": "stderr",
     "output_type": "stream",
     "text": [
      "\n"
     ]
    }
   ],
   "source": [
    "%%time\n",
    "# instanciamos un modelo\n",
    "\n",
    "model = CNN(embedding_dim = 512, k_cnn = 3, kernels = 300)\n",
    "# entrenamos\n",
    "loss_hist, acc_hist = train_GPU(model.to(device), trn_dl, tst_dl, epochs=5)"
   ]
  },
  {
   "cell_type": "code",
   "execution_count": 49,
   "id": "7b6d632b",
   "metadata": {},
   "outputs": [],
   "source": [
    "def plot(loss_hist, acc_hist, c=\"#8bc34a\" , name = None, epoch = 5):\n",
    "    trn_loss, tst_loss = zip(*loss_hist)\n",
    "    trn_acc, tst_acc = zip(*acc_hist)\n",
    "    fig, ax = plt.subplots(1,2, figsize=(13,5))\n",
    "\n",
    "    ax[0].plot(trn_loss, 'tab:orange', label='trn loss')\n",
    "    ax[0].plot(tst_loss, 'tab:red', label='tst loss')\n",
    "    ax[0].set_title(\"Pérdidas\", fontsize = 30, color = c)\n",
    "    ax[0].set_ylabel('pérdida', fontsize = 25, color = c)\n",
    "    ax[1].plot(trn_acc, 'tab:green', label='trn acc')\n",
    "    ax[1].plot(tst_acc, 'tab:blue', label='tst acc')\n",
    "    ax[1].set_title(\"Exactitud\", fontsize = 30, color = c)\n",
    "    ax[1].set_ylabel('exactitud', fontsize = 25, color = c)\n",
    "    for i in range(2):\n",
    "        ax[i].set_xlabel('época', fontsize = 25, color = c)\n",
    "        \n",
    "        ax[i].legend(loc='upper left')\n",
    "        ax[i].spines[\"left\"].set_color(c)\n",
    "        ax[i].spines[\"bottom\"].set_color(c)\n",
    "        yt = np.around(ax[i].get_yticks(), 1)\n",
    "        ax[i].set_yticklabels(yt, color = c, fontsize = 15)\n",
    "        xt = ax[i].get_xticks()\n",
    "        ax[i].set_xticks(range(0,epoch))\n",
    "        ax[i].set_xticklabels(range(1,epoch + 1), color = c, fontsize = 15)\n",
    "        ax[i].spines[\"right\"].set_visible(False)\n",
    "        ax[i].spines[\"top\"].set_visible(False)\n",
    "    if name:\n",
    "        fig.savefig(f\"../figs/{name}.png\", transparent = True, bbox_inches = \"tight\")"
   ]
  },
  {
   "cell_type": "code",
   "execution_count": null,
   "id": "7b78b399",
   "metadata": {},
   "outputs": [],
   "source": [
    "plot(loss_hist.astype(int), acc_hist.astype(int))"
   ]
  },
  {
   "cell_type": "markdown",
   "id": "5cea77a7",
   "metadata": {},
   "source": [
    "[Volver al índice](#Índice)"
   ]
  },
  {
   "cell_type": "markdown",
   "id": "372c54c4",
   "metadata": {},
   "source": [
    "## Arquitectura más compleja"
   ]
  },
  {
   "cell_type": "code",
   "execution_count": 37,
   "id": "af6ef754",
   "metadata": {},
   "outputs": [],
   "source": [
    "class CnnBlock(nn.Module):\n",
    "    def __init__(self, in_channels, kernels, k_cnn, pad_cnn, dilation_cnn, step_cnn,\n",
    "                k_pool, pad_pool, dilation_pool, step_pool):\n",
    "        super(CnnBlock, self).__init__()\n",
    "        # CNN\n",
    "        self.cnn = nn.Sequential(\n",
    "            nn.Conv1d(in_channels = in_channels, out_channels = kernels, kernel_size = k_cnn, padding = pad_cnn,\n",
    "                     dilation = dilation_cnn, stride = step_cnn),\n",
    "            # Función de activación\n",
    "            nn.ReLU(),\n",
    "            # Pooling\n",
    "            nn.MaxPool1d(kernel_size = k_pool, padding = pad_pool, dilation = dilation_pool, stride = step_pool)\n",
    "        )\n",
    "        \n",
    "    def forward(self,x):\n",
    "        x = self.cnn(x)\n",
    "        return x"
   ]
  },
  {
   "cell_type": "code",
   "execution_count": 38,
   "id": "dda3b9aa",
   "metadata": {},
   "outputs": [],
   "source": [
    "# Definición de arquitectura\n",
    "class CNN(nn.Module):    \n",
    "    def __init__(self,kernels = [30], ks_cnn = [9], pads_cnn = [0], dilations_cnn = [1], steps_cnn = [1],\n",
    "                ks_pool = [9], pads_pool = [0], dilations_pool = [1], steps_pool = [1],\n",
    "                num_labels=2, max_len = max_len, num_embeddings = len(word2idx), embedding_dim = 512):\n",
    "        super(CNN, self).__init__()     \n",
    "        # Capa para Embeddings\n",
    "        self.emb = nn.Embedding(num_embeddings, embedding_dim)\n",
    "        input_cnn = embedding_dim\n",
    "        in_dim = max_len\n",
    "        self.len = len(kernels)\n",
    "        \n",
    "        self.module = nn.ModuleList()\n",
    "        for idx in range(self.len):\n",
    "            cnn = CnnBlock(input_cnn, kernels[idx], ks_cnn[idx], pads_cnn[idx], dilations_cnn[idx], steps_cnn[idx],\n",
    "                       ks_pool[idx], pads_pool[idx], dilations_pool[idx], steps_pool[idx])\n",
    "            out_cnn = ((in_dim + 2*pads_cnn[idx] - dilations_cnn[idx]*(ks_cnn[idx] - 1) - 1)//steps_cnn[idx]) + 1\n",
    "            out_pool = ((out_cnn + 2*pads_pool[idx] - dilations_pool[idx]*(ks_pool[idx]-1)-1)//steps_pool[idx]) + 1\n",
    "            input_cnn = kernels[idx]\n",
    "            in_dim = out_pool\n",
    "            self.module.append(cnn)\n",
    "            \n",
    "        \n",
    "        # Calculamos el número de características finales\n",
    "        self.num_features = input_cnn*in_dim        \n",
    "        \n",
    "        # Aplanado\n",
    "        self.flatten = nn.Flatten()\n",
    "        # Definimos el dropout\n",
    "        self.dropout = nn.Dropout(0.2)\n",
    "        \n",
    "        self.cls = nn.Linear(self.num_features, num_labels)\n",
    "        \n",
    "    \n",
    "    # metodo para inferencia\n",
    "    def forward(self, x):\n",
    "        x = self.emb(x)\n",
    "        x = x.permute(0, 2, 1)\n",
    "        for mod in self.module:\n",
    "            x = mod(x)\n",
    "        x = self.flatten(x)\n",
    "        x = self.cls(x)\n",
    "        return x"
   ]
  },
  {
   "cell_type": "code",
   "execution_count": 39,
   "id": "31836419",
   "metadata": {},
   "outputs": [
    {
     "name": "stderr",
     "output_type": "stream",
     "text": [
      " 14%|█▍        | 1/7 [00:57<05:44, 57.43s/it]"
     ]
    },
    {
     "name": "stdout",
     "output_type": "stream",
     "text": [
      "E00 loss=[  0.69,  0.70] acc=[ 0.48, 0.49]\n"
     ]
    },
    {
     "name": "stderr",
     "output_type": "stream",
     "text": [
      "\r",
      " 29%|██▊       | 2/7 [01:52<04:40, 56.02s/it]"
     ]
    },
    {
     "name": "stdout",
     "output_type": "stream",
     "text": [
      "E01 loss=[  0.69,  0.69] acc=[ 0.50, 0.52]\n"
     ]
    },
    {
     "name": "stderr",
     "output_type": "stream",
     "text": [
      "\r",
      " 43%|████▎     | 3/7 [02:44<03:37, 54.35s/it]"
     ]
    },
    {
     "name": "stdout",
     "output_type": "stream",
     "text": [
      "E02 loss=[  0.67,  0.68] acc=[ 0.58, 0.57]\n"
     ]
    },
    {
     "name": "stderr",
     "output_type": "stream",
     "text": [
      "\r",
      " 57%|█████▋    | 4/7 [03:37<02:40, 53.63s/it]"
     ]
    },
    {
     "name": "stdout",
     "output_type": "stream",
     "text": [
      "E03 loss=[  0.62,  0.66] acc=[ 0.68, 0.59]\n"
     ]
    },
    {
     "name": "stderr",
     "output_type": "stream",
     "text": [
      "\r",
      " 71%|███████▏  | 5/7 [04:30<01:46, 53.47s/it]"
     ]
    },
    {
     "name": "stdout",
     "output_type": "stream",
     "text": [
      "E04 loss=[  0.54,  0.66] acc=[ 0.76, 0.61]\n"
     ]
    },
    {
     "name": "stderr",
     "output_type": "stream",
     "text": [
      "\r",
      " 86%|████████▌ | 6/7 [05:24<00:53, 53.48s/it]"
     ]
    },
    {
     "name": "stdout",
     "output_type": "stream",
     "text": [
      "E05 loss=[  0.44,  0.67] acc=[ 0.83, 0.62]\n"
     ]
    },
    {
     "name": "stderr",
     "output_type": "stream",
     "text": [
      "100%|██████████| 7/7 [06:18<00:00, 54.06s/it]"
     ]
    },
    {
     "name": "stdout",
     "output_type": "stream",
     "text": [
      "E06 loss=[  0.32,  0.73] acc=[ 0.89, 0.61]\n",
      "CPU times: user 34min 53s, sys: 13min 8s, total: 48min 1s\n",
      "Wall time: 6min 19s\n"
     ]
    },
    {
     "name": "stderr",
     "output_type": "stream",
     "text": [
      "\n"
     ]
    }
   ],
   "source": [
    "%%time\n",
    "# Valores para la red\n",
    "kernels = [30,60,90]\n",
    "ks_cnn = [3,3,3]\n",
    "pads_cnn = [0,0,0]\n",
    "dilations_cnn = [1,1,1]\n",
    "steps_cnn = [1,1,1]\n",
    "ks_pool = [1,1,1]\n",
    "pads_pool = [0,0,0]\n",
    "dilations_pool = [1,1,1]\n",
    "steps_pool = [1,1,1]\n",
    "# instanciamos un modelo\n",
    "model = CNN(kernels, ks_cnn, pads_cnn, dilations_cnn, steps_cnn, ks_pool, pads_pool, dilations_pool, steps_pool,\n",
    "           embedding_dim = 512)\n",
    "# entrenamos\n",
    "loss_hist, acc_hist = train_GPU(model.to(device), trn_dl, tst_dl, epochs=7)"
   ]
  },
  {
   "cell_type": "code",
   "execution_count": 52,
   "id": "e1be4ece",
   "metadata": {},
   "outputs": [
    {
     "name": "stderr",
     "output_type": "stream",
     "text": [
      "<ipython-input-49-8d98b4b9d901>:21: UserWarning: FixedFormatter should only be used together with FixedLocator\n",
      "  ax[i].set_yticklabels(yt, color = c, fontsize = 15)\n"
     ]
    },
    {
     "data": {
      "image/png": "[encoded data removed]",
      "text/plain": [
       "<Figure size 936x360 with 2 Axes>"
      ]
     },
     "metadata": {
      "needs_background": "dark"
     },
     "output_type": "display_data"
    }
   ],
   "source": [
    "plot(loss_hist, acc_hist, name = \"cnn3_3conv_g\", epoch = 7)"
   ]
  },
  {
   "cell_type": "markdown",
   "id": "eeb8f242",
   "metadata": {},
   "source": [
    "[Volver al índice](#Índice)"
   ]
  }
 ],
 "metadata": {
  "@webio": {
   "lastCommId": null,
   "lastKernelId": null
  },
  "kernelspec": {
   "display_name": "Python 3",
   "language": "python",
   "name": "python3"
  },
  "language_info": {
   "codemirror_mode": {
    "name": "ipython",
    "version": 3
   },
   "file_extension": ".py",
   "mimetype": "text/x-python",
   "name": "python",
   "nbconvert_exporter": "python",
   "pygments_lexer": "ipython3",
   "version": "3.8.10"
  }
 },
 "nbformat": 4,
 "nbformat_minor": 5
}
