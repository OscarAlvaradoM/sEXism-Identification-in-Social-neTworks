{
 "cells": [
  {
   "cell_type": "code",
   "execution_count": 1,
   "id": "existing-secondary",
   "metadata": {},
   "outputs": [],
   "source": [
    "# Basics\n",
    "import string\n",
    "import numpy as np\n",
    "import pandas as pd\n",
    "\n",
    "# Visualización\n",
    "import seaborn as sns\n",
    "import matplotlib.pyplot as plt\n",
    "\n",
    "import re\n",
    "from nltk.tokenize import TweetTokenizer"
   ]
  },
  {
   "cell_type": "markdown",
   "id": "scheduled-garage",
   "metadata": {},
   "source": [
    "# Lectura de datos"
   ]
  },
  {
   "cell_type": "code",
   "execution_count": 2,
   "id": "authorized-annex",
   "metadata": {},
   "outputs": [
    {
     "data": {
      "text/plain": [
       "((6977, 7), (4368, 5))"
      ]
     },
     "execution_count": 2,
     "metadata": {},
     "output_type": "execute_result"
    }
   ],
   "source": [
    "df_train = pd.read_csv(\"../datos/training/EXIST2021_training.tsv\", sep=\"\\t\")\n",
    "df_test = pd.read_csv(\"../datos/test/EXIST2021_test.tsv\", sep=\"\\t\")\n",
    "\n",
    "df_train.shape, df_test.shape"
   ]
  },
  {
   "cell_type": "code",
   "execution_count": 3,
   "id": "dress-valentine",
   "metadata": {},
   "outputs": [
    {
     "data": {
      "text/html": [
       "<div>\n",
       "<style scoped>\n",
       "    .dataframe tbody tr th:only-of-type {\n",
       "        vertical-align: middle;\n",
       "    }\n",
       "\n",
       "    .dataframe tbody tr th {\n",
       "        vertical-align: top;\n",
       "    }\n",
       "\n",
       "    .dataframe thead th {\n",
       "        text-align: right;\n",
       "    }\n",
       "</style>\n",
       "<table border=\"1\" class=\"dataframe\">\n",
       "  <thead>\n",
       "    <tr style=\"text-align: right;\">\n",
       "      <th></th>\n",
       "      <th>test_case</th>\n",
       "      <th>id</th>\n",
       "      <th>source</th>\n",
       "      <th>language</th>\n",
       "      <th>text</th>\n",
       "      <th>task1</th>\n",
       "      <th>task2</th>\n",
       "    </tr>\n",
       "  </thead>\n",
       "  <tbody>\n",
       "    <tr>\n",
       "      <th>0</th>\n",
       "      <td>EXIST2021</td>\n",
       "      <td>1</td>\n",
       "      <td>twitter</td>\n",
       "      <td>en</td>\n",
       "      <td>She calls herself \"anti-feminazi\" how about sh...</td>\n",
       "      <td>sexist</td>\n",
       "      <td>ideological-inequality</td>\n",
       "    </tr>\n",
       "    <tr>\n",
       "      <th>1</th>\n",
       "      <td>EXIST2021</td>\n",
       "      <td>2</td>\n",
       "      <td>twitter</td>\n",
       "      <td>en</td>\n",
       "      <td>Now, back to these women, the brave and the be...</td>\n",
       "      <td>non-sexist</td>\n",
       "      <td>non-sexist</td>\n",
       "    </tr>\n",
       "    <tr>\n",
       "      <th>2</th>\n",
       "      <td>EXIST2021</td>\n",
       "      <td>3</td>\n",
       "      <td>twitter</td>\n",
       "      <td>en</td>\n",
       "      <td>@CurvyBandida @Xalynne_B Wow, your skirt is ve...</td>\n",
       "      <td>sexist</td>\n",
       "      <td>objectification</td>\n",
       "    </tr>\n",
       "    <tr>\n",
       "      <th>3</th>\n",
       "      <td>EXIST2021</td>\n",
       "      <td>4</td>\n",
       "      <td>twitter</td>\n",
       "      <td>en</td>\n",
       "      <td>@AurelieGuiboud Incredible!  Beautiful!But I l...</td>\n",
       "      <td>non-sexist</td>\n",
       "      <td>non-sexist</td>\n",
       "    </tr>\n",
       "    <tr>\n",
       "      <th>4</th>\n",
       "      <td>EXIST2021</td>\n",
       "      <td>5</td>\n",
       "      <td>twitter</td>\n",
       "      <td>en</td>\n",
       "      <td>i find it extremely hard to believe that kelly...</td>\n",
       "      <td>non-sexist</td>\n",
       "      <td>non-sexist</td>\n",
       "    </tr>\n",
       "  </tbody>\n",
       "</table>\n",
       "</div>"
      ],
      "text/plain": [
       "   test_case  id   source language  \\\n",
       "0  EXIST2021   1  twitter       en   \n",
       "1  EXIST2021   2  twitter       en   \n",
       "2  EXIST2021   3  twitter       en   \n",
       "3  EXIST2021   4  twitter       en   \n",
       "4  EXIST2021   5  twitter       en   \n",
       "\n",
       "                                                text       task1  \\\n",
       "0  She calls herself \"anti-feminazi\" how about sh...      sexist   \n",
       "1  Now, back to these women, the brave and the be...  non-sexist   \n",
       "2  @CurvyBandida @Xalynne_B Wow, your skirt is ve...      sexist   \n",
       "3  @AurelieGuiboud Incredible!  Beautiful!But I l...  non-sexist   \n",
       "4  i find it extremely hard to believe that kelly...  non-sexist   \n",
       "\n",
       "                    task2  \n",
       "0  ideological-inequality  \n",
       "1              non-sexist  \n",
       "2         objectification  \n",
       "3              non-sexist  \n",
       "4              non-sexist  "
      ]
     },
     "execution_count": 3,
     "metadata": {},
     "output_type": "execute_result"
    }
   ],
   "source": [
    "df_train.head()"
   ]
  },
  {
   "cell_type": "markdown",
   "id": "biblical-pound",
   "metadata": {},
   "source": [
    "# Exploración de etiquetas"
   ]
  },
  {
   "cell_type": "code",
   "execution_count": 4,
   "id": "accepted-scratch",
   "metadata": {},
   "outputs": [
    {
     "data": {
      "text/plain": [
       "<AxesSubplot:xlabel='task1', ylabel='count'>"
      ]
     },
     "execution_count": 4,
     "metadata": {},
     "output_type": "execute_result"
    },
    {
     "data": {
      "image/png": "[encoded data removed]",
      "text/plain": [
       "<Figure size 432x288 with 1 Axes>"
      ]
     },
     "metadata": {
      "needs_background": "light"
     },
     "output_type": "display_data"
    }
   ],
   "source": [
    "sns.countplot(data=df_train, x=\"task1\")"
   ]
  },
  {
   "cell_type": "code",
   "execution_count": 5,
   "id": "assisted-brook",
   "metadata": {},
   "outputs": [
    {
     "data": {
      "text/plain": [
       "<AxesSubplot:xlabel='task2', ylabel='count'>"
      ]
     },
     "execution_count": 5,
     "metadata": {},
     "output_type": "execute_result"
    },
    {
     "data": {
      "image/png": "[encoded data removed]",
      "text/plain": [
       "<Figure size 1152x648 with 1 Axes>"
      ]
     },
     "metadata": {
      "needs_background": "light"
     },
     "output_type": "display_data"
    }
   ],
   "source": [
    "fig, ax = plt.subplots(figsize=(16,9))\n",
    "sns.countplot(data=df_train, x=\"task2\", ax=ax)"
   ]
  },
  {
   "cell_type": "markdown",
   "id": "initial-march",
   "metadata": {},
   "source": [
    "# Exploración de fuente"
   ]
  },
  {
   "cell_type": "code",
   "execution_count": 6,
   "id": "stretch-softball",
   "metadata": {},
   "outputs": [
    {
     "data": {
      "text/plain": [
       "<AxesSubplot:xlabel='source', ylabel='count'>"
      ]
     },
     "execution_count": 6,
     "metadata": {},
     "output_type": "execute_result"
    },
    {
     "data": {
      "image/png": "[encoded data removed]",
      "text/plain": [
       "<Figure size 1152x576 with 2 Axes>"
      ]
     },
     "metadata": {
      "needs_background": "light"
     },
     "output_type": "display_data"
    }
   ],
   "source": [
    "fig, ax = plt.subplots(figsize=(16,8), ncols=2)\n",
    "sns.countplot(data=df_train, x=\"source\", ax=ax[0])\n",
    "sns.countplot(data=df_test, x=\"source\", ax=ax[1])"
   ]
  },
  {
   "cell_type": "markdown",
   "id": "varied-omega",
   "metadata": {},
   "source": [
    "Lo que predomina es twitter. Respecto a los textos que vienen de gab, estos están en el conjunto de prueba, y dado que actualmente ya no tenemos manera de revisar como sería nuestro desempeño con dicho conjunto, podemos ignorarlos"
   ]
  },
  {
   "cell_type": "code",
   "execution_count": 7,
   "id": "happy-slovenia",
   "metadata": {},
   "outputs": [
    {
     "data": {
      "text/plain": [
       "<AxesSubplot:xlabel='language', ylabel='count'>"
      ]
     },
     "execution_count": 7,
     "metadata": {},
     "output_type": "execute_result"
    },
    {
     "data": {
      "image/png": "[encoded data removed]",
      "text/plain": [
       "<Figure size 1152x576 with 2 Axes>"
      ]
     },
     "metadata": {
      "needs_background": "light"
     },
     "output_type": "display_data"
    }
   ],
   "source": [
    "fig, ax = plt.subplots(figsize=(16,8), ncols=2)\n",
    "sns.countplot(data=df_train, x=\"language\", ax=ax[0])\n",
    "sns.countplot(data=df_test, x=\"language\", ax=ax[1])"
   ]
  },
  {
   "cell_type": "markdown",
   "id": "documentary-trinidad",
   "metadata": {},
   "source": [
    "El conjunto de datos está balanceado en términos de los idiomas"
   ]
  },
  {
   "cell_type": "markdown",
   "id": "electronic-klein",
   "metadata": {},
   "source": [
    "# Preprocesamiento de tweets\n",
    "\n",
    "* Todo minúsculas\n",
    "* Sustituir usuarios con @usuario\n",
    "* Con ayuda de TweetTokenizer(reduce_len), colapsar repeticiones\n",
    "* Sustituir links"
   ]
  },
  {
   "cell_type": "code",
   "execution_count": 8,
   "id": "alike-reducing",
   "metadata": {},
   "outputs": [
    {
     "data": {
      "text/plain": [
       "['hola', '. .']"
      ]
     },
     "execution_count": 8,
     "metadata": {},
     "output_type": "execute_result"
    }
   ],
   "source": [
    "TweetTokenizer(reduce_len=True).tokenize(\"hola. .\")"
   ]
  },
  {
   "cell_type": "code",
   "execution_count": 9,
   "id": "exempt-lawsuit",
   "metadata": {},
   "outputs": [],
   "source": [
    "def colapsar_repeticion(match):\n",
    "    elemento = match.groups()\n",
    "    assert len(match.groups()) == 1\n",
    "    return elemento[0]\n",
    "\n",
    "def procesar_tweet(tweet):\n",
    "    tweet = tweet.lower()\n",
    "    regex_usuario = re.compile(r\"@[\\w\\d]+\")\n",
    "    tweet = regex_usuario.sub(\"@usuario\", tweet)\n",
    "    \n",
    "    regex_link = re.compile(r\"\\b(?:https?://|www\\.)\\S+\\b\")\n",
    "    tweet = regex_link.sub(\"<link>\", tweet)\n",
    "    \n",
    "    regex_frac = re.compile(r\"\\d+/\\d+\\w*\")\n",
    "    tweet = regex_frac.sub(\"<número>\", tweet)\n",
    "    \n",
    "    regex_numbers = re.compile(r\"\\d+\\w*\")\n",
    "    tweet = regex_numbers.sub(\"<número>\", tweet)\n",
    "    \n",
    "    tokenizer = TweetTokenizer(reduce_len=True)\n",
    "    tokens = tokenizer.tokenize(tweet)\n",
    "    \n",
    "    regex_collapse = re.compile(r\"(\\w)\\1{2}\")\n",
    "    \n",
    "    tokens = [regex_collapse.sub(colapsar_repeticion, token) for token in tokens]\n",
    "    \n",
    "    simbolos = r\"\"\"'@¡\"#$%&'()*+,-./:;<=>¿[\\]^_`{|}~'\"\"\"\n",
    "    simbolos = set(simbolos) | set([\"--->\", \"...\", \". . .\", \". .\", \". ...\", \"..\"])\n",
    "    tokens = [token for token in tokens if token not in simbolos]\n",
    "    \n",
    "    return tokens\n",
    "\n",
    "def procesar_tweet_legado(tweet):\n",
    "    tweet = tweet.lower()\n",
    "    regex_usuario = re.compile(r\"@[\\w\\d]+\")\n",
    "    tweet = regex_usuario.sub(\"@usuario\", tweet)\n",
    "    \n",
    "    regex_link = re.compile(r\"\\b(?:https?://|www\\.)\\S+\\b\")\n",
    "    tweet = regex_link.sub(\"<link>\", tweet)\n",
    "    \n",
    "    tokenizer = TweetTokenizer(reduce_len=True)\n",
    "    tokens = tokenizer.tokenize(tweet)\n",
    "    \n",
    "    regex_collapse = re.compile(r\"(\\w)\\1{2}\")\n",
    "    \n",
    "    tokens = [regex_collapse.sub(colapsar_repeticion, token) for token in tokens]\n",
    "    \n",
    "    simbolos = \"\"\n",
    "    tokens = [token for token in tokens if token not in simbolos]\n",
    "    \n",
    "    return tokens"
   ]
  },
  {
   "cell_type": "code",
   "execution_count": 10,
   "id": "signed-checkout",
   "metadata": {},
   "outputs": [
    {
     "data": {
      "text/plain": [
       "'Hooolaaaaa, estoy metiendo spam https://t.co/uvl5HhbmbR y aparte estoy saludando a @proplayer'"
      ]
     },
     "execution_count": 10,
     "metadata": {},
     "output_type": "execute_result"
    }
   ],
   "source": [
    "#tweet = df_train.loc[3, \"text\"]\n",
    "tweet = r\"Hooolaaaaa, estoy metiendo spam https://t.co/uvl5HhbmbR y aparte estoy saludando a @proplayer\"\n",
    "tweet"
   ]
  },
  {
   "cell_type": "code",
   "execution_count": 11,
   "id": "chemical-edmonton",
   "metadata": {},
   "outputs": [
    {
     "data": {
      "text/plain": [
       "['hola',\n",
       " 'estoy',\n",
       " 'metiendo',\n",
       " 'spam',\n",
       " '<link>',\n",
       " 'y',\n",
       " 'aparte',\n",
       " 'estoy',\n",
       " 'saludando',\n",
       " 'a',\n",
       " '@usuario']"
      ]
     },
     "execution_count": 11,
     "metadata": {},
     "output_type": "execute_result"
    }
   ],
   "source": [
    "procesar_tweet(tweet)"
   ]
  },
  {
   "cell_type": "code",
   "execution_count": 12,
   "id": "subsequent-partner",
   "metadata": {},
   "outputs": [
    {
     "data": {
      "text/plain": [
       "'Hooola mi geentee. . hoy no les voy a poder dAr clase, les dejo mi eduflow ---> https://t.co/uvl5HhbmbR.\\nPor cierto @pobrediablo14, todavía no te pago las 26first 1/2 quincenas '"
      ]
     },
     "execution_count": 12,
     "metadata": {},
     "output_type": "execute_result"
    }
   ],
   "source": [
    "tweet2 = r\"\"\"Hooola mi geentee. . hoy no les voy a poder dAr clase, les dejo mi eduflow ---> https://t.co/uvl5HhbmbR.\n",
    "Por cierto @pobrediablo14, todavía no te pago las 26first 1/2 quincenas \"\"\"\n",
    "\n",
    "tweet2"
   ]
  },
  {
   "cell_type": "code",
   "execution_count": 13,
   "id": "seasonal-declaration",
   "metadata": {},
   "outputs": [
    {
     "data": {
      "text/plain": [
       "['hola',\n",
       " 'mi',\n",
       " 'geentee',\n",
       " 'hoy',\n",
       " 'no',\n",
       " 'les',\n",
       " 'voy',\n",
       " 'a',\n",
       " 'poder',\n",
       " 'dar',\n",
       " 'clase',\n",
       " 'les',\n",
       " 'dejo',\n",
       " 'mi',\n",
       " 'eduflow',\n",
       " '<link>',\n",
       " 'por',\n",
       " 'cierto',\n",
       " '@usuario',\n",
       " 'todavía',\n",
       " 'no',\n",
       " 'te',\n",
       " 'pago',\n",
       " 'las',\n",
       " '<número>',\n",
       " '<número>',\n",
       " 'quincenas']"
      ]
     },
     "execution_count": 13,
     "metadata": {},
     "output_type": "execute_result"
    }
   ],
   "source": [
    "procesar_tweet(tweet2)"
   ]
  },
  {
   "cell_type": "code",
   "execution_count": 14,
   "id": "level-model",
   "metadata": {},
   "outputs": [],
   "source": [
    "tweets = df_train[\"text\"].apply(procesar_tweet)"
   ]
  },
  {
   "cell_type": "code",
   "execution_count": 15,
   "id": "interpreted-lawyer",
   "metadata": {},
   "outputs": [
    {
     "data": {
      "text/plain": [
       "0       [she, calls, herself, anti-feminazi, how, abou...\n",
       "1       [now, back, to, these, women, the, brave, and,...\n",
       "2       [@usuario, @usuario, wow, your, skirt, is, ver...\n",
       "3       [@usuario, incredible, !, beautiful, !, but, i...\n",
       "4       [i, find, it, extremely, hard, to, believe, th...\n",
       "                              ...                        \n",
       "6972    [estamos, igual, sin, pareja, pero, puedes, be...\n",
       "6973                 [<número>, hijo, de, re, mil, putas]\n",
       "6974    [seguramente, esta, chica, no, cobra, el, dine...\n",
       "6975    [@usuario, mi, madre, dice, q, va, fea, y, i, ...\n",
       "6976    [en, vuestras, casas, también, tenéis, esa, tr...\n",
       "Name: text, Length: 6977, dtype: object"
      ]
     },
     "execution_count": 15,
     "metadata": {},
     "output_type": "execute_result"
    }
   ],
   "source": [
    "tweets"
   ]
  },
  {
   "cell_type": "code",
   "execution_count": null,
   "id": "seeing-corrections",
   "metadata": {},
   "outputs": [],
   "source": []
  }
 ],
 "metadata": {
  "kernelspec": {
   "display_name": "Python 3",
   "language": "python",
   "name": "python3"
  },
  "language_info": {
   "codemirror_mode": {
    "name": "ipython",
    "version": 3
   },
   "file_extension": ".py",
   "mimetype": "text/x-python",
   "name": "python",
   "nbconvert_exporter": "python",
   "pygments_lexer": "ipython3",
   "version": "3.8.5"
  }
 },
 "nbformat": 4,
 "nbformat_minor": 5
}
