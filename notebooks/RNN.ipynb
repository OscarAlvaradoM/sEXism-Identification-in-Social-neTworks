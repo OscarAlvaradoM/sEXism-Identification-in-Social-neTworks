{
 "cells": [
  {
   "cell_type": "code",
   "execution_count": 1,
   "id": "ethical-glory",
   "metadata": {},
   "outputs": [],
   "source": [
    "import os\n",
    "import re\n",
    "\n",
    "from itertools import islice\n",
    "\n",
    "from tqdm import tqdm, trange\n",
    "\n",
    "import numpy as np\n",
    "import pandas as pd\n",
    "\n",
    "from nltk.tokenize import TweetTokenizer\n",
    "\n",
    "import matplotlib.pyplot as plt\n",
    "\n",
    "# Deep learning\n",
    "import torch\n",
    "from torch import nn\n",
    "from torch.utils.data import Dataset, DataLoader\n",
    "import torch.nn.functional as F\n",
    "import torch.optim as optim\n",
    "\n",
    "from sklearn.model_selection import train_test_split\n",
    "from sklearn.metrics import classification_report"
   ]
  },
  {
   "cell_type": "code",
   "execution_count": 2,
   "id": "improved-abraham",
   "metadata": {},
   "outputs": [
    {
     "data": {
      "text/plain": [
       "device(type='cuda', index=0)"
      ]
     },
     "execution_count": 2,
     "metadata": {},
     "output_type": "execute_result"
    }
   ],
   "source": [
    "dev = torch.device('cuda:0' if torch.cuda.is_available() else 'cpu')\n",
    "dev"
   ]
  },
  {
   "cell_type": "markdown",
   "id": "coordinated-teens",
   "metadata": {},
   "source": [
    "# Lectura y preprocesamiento"
   ]
  },
  {
   "cell_type": "code",
   "execution_count": 3,
   "id": "alike-trademark",
   "metadata": {},
   "outputs": [],
   "source": [
    "def colapsar_repeticion(match):\n",
    "    elemento = match.groups()\n",
    "    assert len(match.groups()) == 1\n",
    "    return elemento[0]\n",
    "\n",
    "def procesar_tweet(tweet):\n",
    "    tweet = tweet.lower()\n",
    "    regex_usuario = re.compile(r\"@[\\w\\d]+\")\n",
    "    tweet = regex_usuario.sub(\"@usuario\", tweet)\n",
    "    \n",
    "    regex_link = re.compile(r\"\\b(?:https?://|www\\.)\\S+\\b\")\n",
    "    tweet = regex_link.sub(\"<link>\", tweet)\n",
    "    \n",
    "    regex_frac = re.compile(r\"\\d+/\\d+\\w*\")\n",
    "    tweet = regex_frac.sub(\"<número>\", tweet)\n",
    "    \n",
    "    regex_numbers = re.compile(r\"\\d+\\w*\")\n",
    "    tweet = regex_numbers.sub(\"<número>\", tweet)\n",
    "    \n",
    "    tokenizer = TweetTokenizer(reduce_len=True)\n",
    "    tokens = tokenizer.tokenize(tweet)\n",
    "    \n",
    "    regex_collapse = re.compile(r\"(\\w)\\1{2}\")\n",
    "    \n",
    "    tokens = [regex_collapse.sub(colapsar_repeticion, token) for token in tokens]\n",
    "    \n",
    "    simbolos = r\"\"\"'@¡\"#$%&'()*+,-./:;<=>¿[\\]^_`{|}~'\"\"\"\n",
    "    simbolos = set(simbolos) | set([\"--->\", \"...\", \". . .\", \". .\", \". ...\", \"..\", \"->\"])\n",
    "    tokens = [token for token in tokens if token not in simbolos]\n",
    "    \n",
    "    return tokens"
   ]
  },
  {
   "cell_type": "code",
   "execution_count": 4,
   "id": "foster-somalia",
   "metadata": {},
   "outputs": [
    {
     "data": {
      "text/html": [
       "<div>\n",
       "<style scoped>\n",
       "    .dataframe tbody tr th:only-of-type {\n",
       "        vertical-align: middle;\n",
       "    }\n",
       "\n",
       "    .dataframe tbody tr th {\n",
       "        vertical-align: top;\n",
       "    }\n",
       "\n",
       "    .dataframe thead th {\n",
       "        text-align: right;\n",
       "    }\n",
       "</style>\n",
       "<table border=\"1\" class=\"dataframe\">\n",
       "  <thead>\n",
       "    <tr style=\"text-align: right;\">\n",
       "      <th></th>\n",
       "      <th>test_case</th>\n",
       "      <th>id</th>\n",
       "      <th>source</th>\n",
       "      <th>language</th>\n",
       "      <th>text</th>\n",
       "      <th>task1</th>\n",
       "      <th>task2</th>\n",
       "    </tr>\n",
       "  </thead>\n",
       "  <tbody>\n",
       "    <tr>\n",
       "      <th>0</th>\n",
       "      <td>EXIST2021</td>\n",
       "      <td>1</td>\n",
       "      <td>twitter</td>\n",
       "      <td>en</td>\n",
       "      <td>She calls herself \"anti-feminazi\" how about sh...</td>\n",
       "      <td>sexist</td>\n",
       "      <td>ideological-inequality</td>\n",
       "    </tr>\n",
       "    <tr>\n",
       "      <th>1</th>\n",
       "      <td>EXIST2021</td>\n",
       "      <td>2</td>\n",
       "      <td>twitter</td>\n",
       "      <td>en</td>\n",
       "      <td>Now, back to these women, the brave and the be...</td>\n",
       "      <td>non-sexist</td>\n",
       "      <td>non-sexist</td>\n",
       "    </tr>\n",
       "    <tr>\n",
       "      <th>2</th>\n",
       "      <td>EXIST2021</td>\n",
       "      <td>3</td>\n",
       "      <td>twitter</td>\n",
       "      <td>en</td>\n",
       "      <td>@CurvyBandida @Xalynne_B Wow, your skirt is ve...</td>\n",
       "      <td>sexist</td>\n",
       "      <td>objectification</td>\n",
       "    </tr>\n",
       "    <tr>\n",
       "      <th>3</th>\n",
       "      <td>EXIST2021</td>\n",
       "      <td>4</td>\n",
       "      <td>twitter</td>\n",
       "      <td>en</td>\n",
       "      <td>@AurelieGuiboud Incredible!  Beautiful!But I l...</td>\n",
       "      <td>non-sexist</td>\n",
       "      <td>non-sexist</td>\n",
       "    </tr>\n",
       "    <tr>\n",
       "      <th>4</th>\n",
       "      <td>EXIST2021</td>\n",
       "      <td>5</td>\n",
       "      <td>twitter</td>\n",
       "      <td>en</td>\n",
       "      <td>i find it extremely hard to believe that kelly...</td>\n",
       "      <td>non-sexist</td>\n",
       "      <td>non-sexist</td>\n",
       "    </tr>\n",
       "    <tr>\n",
       "      <th>...</th>\n",
       "      <td>...</td>\n",
       "      <td>...</td>\n",
       "      <td>...</td>\n",
       "      <td>...</td>\n",
       "      <td>...</td>\n",
       "      <td>...</td>\n",
       "      <td>...</td>\n",
       "    </tr>\n",
       "    <tr>\n",
       "      <th>6972</th>\n",
       "      <td>EXIST2021</td>\n",
       "      <td>6973</td>\n",
       "      <td>twitter</td>\n",
       "      <td>es</td>\n",
       "      <td>Estamos igual sin pareja, pero puedes besar a ...</td>\n",
       "      <td>non-sexist</td>\n",
       "      <td>non-sexist</td>\n",
       "    </tr>\n",
       "    <tr>\n",
       "      <th>6973</th>\n",
       "      <td>EXIST2021</td>\n",
       "      <td>6974</td>\n",
       "      <td>twitter</td>\n",
       "      <td>es</td>\n",
       "      <td>2020 hijo de re mil putas</td>\n",
       "      <td>non-sexist</td>\n",
       "      <td>non-sexist</td>\n",
       "    </tr>\n",
       "    <tr>\n",
       "      <th>6974</th>\n",
       "      <td>EXIST2021</td>\n",
       "      <td>6975</td>\n",
       "      <td>twitter</td>\n",
       "      <td>es</td>\n",
       "      <td>SEGURAMENTE ESTA CHICA NO COBRA EL DINERO QUE ...</td>\n",
       "      <td>non-sexist</td>\n",
       "      <td>non-sexist</td>\n",
       "    </tr>\n",
       "    <tr>\n",
       "      <th>6975</th>\n",
       "      <td>EXIST2021</td>\n",
       "      <td>6976</td>\n",
       "      <td>twitter</td>\n",
       "      <td>es</td>\n",
       "      <td>@safetyaitana mi madre dice q va fea y i agree</td>\n",
       "      <td>sexist</td>\n",
       "      <td>objectification</td>\n",
       "    </tr>\n",
       "    <tr>\n",
       "      <th>6976</th>\n",
       "      <td>EXIST2021</td>\n",
       "      <td>6977</td>\n",
       "      <td>twitter</td>\n",
       "      <td>es</td>\n",
       "      <td>¿En vuestras casas también tenéis esa tradició...</td>\n",
       "      <td>sexist</td>\n",
       "      <td>stereotyping-dominance</td>\n",
       "    </tr>\n",
       "  </tbody>\n",
       "</table>\n",
       "<p>6977 rows × 7 columns</p>\n",
       "</div>"
      ],
      "text/plain": [
       "      test_case    id   source language  \\\n",
       "0     EXIST2021     1  twitter       en   \n",
       "1     EXIST2021     2  twitter       en   \n",
       "2     EXIST2021     3  twitter       en   \n",
       "3     EXIST2021     4  twitter       en   \n",
       "4     EXIST2021     5  twitter       en   \n",
       "...         ...   ...      ...      ...   \n",
       "6972  EXIST2021  6973  twitter       es   \n",
       "6973  EXIST2021  6974  twitter       es   \n",
       "6974  EXIST2021  6975  twitter       es   \n",
       "6975  EXIST2021  6976  twitter       es   \n",
       "6976  EXIST2021  6977  twitter       es   \n",
       "\n",
       "                                                   text       task1  \\\n",
       "0     She calls herself \"anti-feminazi\" how about sh...      sexist   \n",
       "1     Now, back to these women, the brave and the be...  non-sexist   \n",
       "2     @CurvyBandida @Xalynne_B Wow, your skirt is ve...      sexist   \n",
       "3     @AurelieGuiboud Incredible!  Beautiful!But I l...  non-sexist   \n",
       "4     i find it extremely hard to believe that kelly...  non-sexist   \n",
       "...                                                 ...         ...   \n",
       "6972  Estamos igual sin pareja, pero puedes besar a ...  non-sexist   \n",
       "6973                          2020 hijo de re mil putas  non-sexist   \n",
       "6974  SEGURAMENTE ESTA CHICA NO COBRA EL DINERO QUE ...  non-sexist   \n",
       "6975     @safetyaitana mi madre dice q va fea y i agree      sexist   \n",
       "6976  ¿En vuestras casas también tenéis esa tradició...      sexist   \n",
       "\n",
       "                       task2  \n",
       "0     ideological-inequality  \n",
       "1                 non-sexist  \n",
       "2            objectification  \n",
       "3                 non-sexist  \n",
       "4                 non-sexist  \n",
       "...                      ...  \n",
       "6972              non-sexist  \n",
       "6973              non-sexist  \n",
       "6974              non-sexist  \n",
       "6975         objectification  \n",
       "6976  stereotyping-dominance  \n",
       "\n",
       "[6977 rows x 7 columns]"
      ]
     },
     "execution_count": 4,
     "metadata": {},
     "output_type": "execute_result"
    }
   ],
   "source": [
    "df_train = pd.read_csv(\"../datos/training/EXIST2021_training.tsv\", sep=\"\\t\")\n",
    "df_train"
   ]
  },
  {
   "cell_type": "code",
   "execution_count": 5,
   "id": "quantitative-sailing",
   "metadata": {},
   "outputs": [],
   "source": [
    "tweets = df_train[\"text\"].apply(procesar_tweet)\n",
    "labels1 = df_train[\"task1\"].map({\"sexist\":1, \"non-sexist\":0}).values"
   ]
  },
  {
   "cell_type": "markdown",
   "id": "objective-spray",
   "metadata": {},
   "source": [
    "# Train - test"
   ]
  },
  {
   "cell_type": "code",
   "execution_count": 6,
   "id": "aquatic-landing",
   "metadata": {},
   "outputs": [],
   "source": [
    "train_tweets, test_tweets, train_labels, test_labels = train_test_split(tweets, labels1, test_size=0.2, random_state=42)"
   ]
  },
  {
   "cell_type": "code",
   "execution_count": 7,
   "id": "announced-might",
   "metadata": {},
   "outputs": [
    {
     "data": {
      "text/plain": [
       "22888"
      ]
     },
     "execution_count": 7,
     "metadata": {},
     "output_type": "execute_result"
    }
   ],
   "source": [
    "def get_vocab(tweets):\n",
    "    tokens = [token for tweet in tweets for token in tweet]\n",
    "    types = set(tokens) \n",
    "    vocab = {\"<PAD>\":0, \"<UNK>\":1}\n",
    "    for i, word in enumerate(types, 2):\n",
    "        vocab[word] = i\n",
    "    return vocab\n",
    "\n",
    "\n",
    "#########\n",
    "vocab = get_vocab(train_tweets)\n",
    "len(vocab)"
   ]
  },
  {
   "cell_type": "code",
   "execution_count": 8,
   "id": "urban-means",
   "metadata": {},
   "outputs": [
    {
     "data": {
      "text/plain": [
       "102"
      ]
     },
     "execution_count": 8,
     "metadata": {},
     "output_type": "execute_result"
    }
   ],
   "source": [
    "lens = [len(tweet) for tweet in tweets]\n",
    "maxlen = max(lens)\n",
    "maxlen"
   ]
  },
  {
   "cell_type": "code",
   "execution_count": 9,
   "id": "imperial-citation",
   "metadata": {},
   "outputs": [],
   "source": [
    "class sEXIST2021Dataset:\n",
    "    def __init__(self, tweets, labels, vocab, maxlen=None):\n",
    "        self.tweets = tweets\n",
    "        self.labels = labels\n",
    "        self.vocab = vocab\n",
    "        \n",
    "        if not maxlen:\n",
    "            lens = [len(tweet) for tweet in tweets]\n",
    "            maxlen = max(lens)\n",
    "        self.maxlen = maxlen\n",
    "        \n",
    "    def __len__(self):\n",
    "        return len(self.tweets)\n",
    "    \n",
    "    def __getitem__(self, idx):\n",
    "        tweet = self.tweets.iloc[idx]\n",
    "        label = self.labels[idx]\n",
    "        \n",
    "        x = torch.zeros(self.maxlen, dtype=torch.int)\n",
    "        for i, token in enumerate(tweet[:self.maxlen]):\n",
    "            x[i] = self.vocab.get(token, 1) # 1 es para tokens desconocidos\n",
    "            \n",
    "        y = float(label)\n",
    "        \n",
    "        return x,y\n",
    "    \n",
    "    \n",
    "#### Creación de datasets ####\n",
    "train_dataset = sEXIST2021Dataset(train_tweets, train_labels, vocab, maxlen)\n",
    "test_dataset = sEXIST2021Dataset(test_tweets, test_labels, vocab, maxlen)\n",
    "\n",
    "train_dataloader = DataLoader(train_dataset, batch_size=4)\n",
    "test_dataloader = DataLoader(test_dataset, batch_size=4)"
   ]
  },
  {
   "cell_type": "code",
   "execution_count": 32,
   "id": "bronze-investing",
   "metadata": {},
   "outputs": [],
   "source": [
    "def train_epoch(model, dataloader, optimizer):\n",
    "    for x, y_true in dataloader:\n",
    "        x, y_true = x.to(dev), y_true.to(dev)\n",
    "        \n",
    "        y_lgts = model(x) # logits\n",
    "        \n",
    "        # computamos la pérdida\n",
    "        loss = F.binary_cross_entropy_with_logits(y_lgts, y_true.unsqueeze(1))\n",
    "                \n",
    "        optimizer.zero_grad()\n",
    "        loss.backward()\n",
    "        optimizer.step()\n",
    "\n",
    "\n",
    "def eval_epoch(model, dataloader, num_batches=None):\n",
    "    with torch.no_grad():\n",
    "        # historiales\n",
    "        losses, accs = [], []\n",
    "        \n",
    "        # si num_batches = None, es todo\n",
    "        for x, y_true in islice(dataloader, num_batches):\n",
    "            x, y_true = x.to(dev), y_true.to(dev)\n",
    "\n",
    "            y_lgts = model(x)  # logits\n",
    "            \n",
    "            # predicción\n",
    "            y_prob = torch.sigmoid(y_lgts)\n",
    "            y_pred = torch.round(y_prob)\n",
    "\n",
    "            # computamos la pérdida\n",
    "            loss = F.binary_cross_entropy_with_logits(y_lgts, y_true.unsqueeze(1))\n",
    "\n",
    "            # computamos la exactitud\n",
    "            acc = (y_true == y_pred).type(torch.float32).mean()\n",
    "\n",
    "            # guardamos históricos\n",
    "            losses.append(loss.item())\n",
    "            accs.append(acc.item())\n",
    "\n",
    "        loss = np.mean(losses)\n",
    "        acc = np.mean(accs)\n",
    "\n",
    "        return loss, acc\n",
    "    \n",
    "    \n",
    "def train(model, train_dataloader, test_dataloader, \n",
    "          epochs=15, lr=1e-3, num_batches=None):\n",
    "\n",
    "    # historiales\n",
    "    loss_hist, acc_hist = {\"train\":[], \"test\":[]}, {\"train\":[], \"test\":[]}\n",
    "    \n",
    "    # optimizador\n",
    "    #opt = optim.SGD(model.parameters(), lr=lr)\n",
    "    opt = optim.Adam(model.parameters(), lr=lr)\n",
    "    \n",
    "    # ciclo de entrenamiento\n",
    "    for epoch in trange(epochs):\n",
    "\n",
    "        # entrenamos la época\n",
    "        model.train()\n",
    "        train_epoch(model, train_dataloader, opt)\n",
    "\n",
    "        # evaluamos la época en entrenamiento\n",
    "        model.eval()\n",
    "        train_loss, train_acc = eval_epoch(model, train_dataloader, num_batches)\n",
    "        test_loss, test_acc = eval_epoch(model, test_dataloader, num_batches)\n",
    "\n",
    "        # guardamos historial\n",
    "        loss_hist[\"train\"].append(train_loss)\n",
    "        loss_hist[\"test\"].append(test_loss)\n",
    "        acc_hist[\"train\"].append(train_acc)\n",
    "        acc_hist[\"test\"].append(test_acc)\n",
    "\n",
    "    return loss_hist, acc_hist\n",
    "\n",
    "\n",
    "def plot_hist(loss_hist, acc_hist, title=\"\"):\n",
    "    fig, ax = plt.subplots(ncols=2, figsize=(16,9))\n",
    "    for i, hist in enumerate([loss_hist, acc_hist]):\n",
    "        ax[i].plot(hist[\"train\"], label=\"train\")\n",
    "        ax[i].plot(hist[\"test\"], label=\"test\")\n",
    "        ax[i].legend()\n",
    "        ax[i].set_xlabel(\"epoch\")\n",
    "        \n",
    "    ax[0].set_title(\"loss\")\n",
    "    ax[1].set_title(\"accuracy\")\n",
    "    fig.suptitle(title)\n",
    "    \n",
    "    return fig"
   ]
  },
  {
   "cell_type": "code",
   "execution_count": 33,
   "id": "hundred-puppy",
   "metadata": {},
   "outputs": [],
   "source": [
    "class ExistLstm(nn.Module):\n",
    "    def __init__(self, input_size, vocab_size, embedding_dim, \n",
    "                 hidden_dim, num_lstm_layers=None):\n",
    "        super().__init__()\n",
    "        padding_idx = 0\n",
    "        self.embedding_dim = embedding_dim\n",
    "        \n",
    "        self.embedding = nn.Embedding(vocab_size, embedding_dim, \n",
    "                                      padding_idx=padding_idx)\n",
    "        \n",
    "        self.lstm = nn.LSTM(embedding_dim, hidden_dim, batch_first=True, dropout=0.2)\n",
    "        self.batch_norm = nn.BatchNorm1d(input_size)\n",
    "        self.lstm2 = nn.LSTM(hidden_dim, hidden_dim//2, batch_first=True)\n",
    "        self.batch_norm2 = nn.BatchNorm1d(input_size)\n",
    "        self.clf = nn.Linear(input_size*hidden_dim//2, 1)\n",
    "    \n",
    "    def forward(self, x):\n",
    "        embeds = self.embedding(x)  # [N, seq_len] -> [N, seq_len, embedding_dim]\n",
    "        lstm_out, _ = self.lstm(embeds) # [N, seq_len, hidden_size]\n",
    "        lstm_out = self.batch_norm(lstm_out)\n",
    "        lstm_out2, _ = self.lstm2(lstm_out)\n",
    "        lstm_out2 = self.batch_norm2(lstm_out2).flatten(1) # [N, seq_len*hidden_size]\n",
    "        y = self.clf(lstm_out2)\n",
    "        return y"
   ]
  },
  {
   "cell_type": "code",
   "execution_count": 34,
   "id": "rolled-registration",
   "metadata": {},
   "outputs": [
    {
     "data": {
      "text/plain": [
       "ExistLstm(\n",
       "  (embedding): Embedding(22888, 512, padding_idx=0)\n",
       "  (lstm): LSTM(512, 256, batch_first=True, dropout=0.2)\n",
       "  (batch_norm): BatchNorm1d(102, eps=1e-05, momentum=0.1, affine=True, track_running_stats=True)\n",
       "  (lstm2): LSTM(256, 128, batch_first=True)\n",
       "  (batch_norm2): BatchNorm1d(102, eps=1e-05, momentum=0.1, affine=True, track_running_stats=True)\n",
       "  (clf): Linear(in_features=13056, out_features=1, bias=True)\n",
       ")"
      ]
     },
     "execution_count": 34,
     "metadata": {},
     "output_type": "execute_result"
    }
   ],
   "source": [
    "lstm_model = ExistLstm(input_size=maxlen, vocab_size=len(vocab), \n",
    "                       embedding_dim=512, hidden_dim=256).to(dev)\n",
    "lstm_model"
   ]
  },
  {
   "cell_type": "code",
   "execution_count": 35,
   "id": "marine-attendance",
   "metadata": {},
   "outputs": [
    {
     "name": "stderr",
     "output_type": "stream",
     "text": [
      "100%|██████████| 50/50 [15:16<00:00, 18.34s/it]\n"
     ]
    },
    {
     "data": {
      "text/plain": [
       "(5.459778154794704, 0.5401146131805158)"
      ]
     },
     "execution_count": 35,
     "metadata": {},
     "output_type": "execute_result"
    },
    {
     "data": {
      "image/png": "[encoded data removed]",
      "text/plain": [
       "<Figure size 1152x648 with 2 Axes>"
      ]
     },
     "metadata": {
      "needs_background": "light"
     },
     "output_type": "display_data"
    }
   ],
   "source": [
    "loss_hist, acc_hist = train(lstm_model, train_dataloader, test_dataloader, \n",
    "                            epochs=50, lr=1e-3)\n",
    "plot_hist(loss_hist, acc_hist, title=\"Modelo LSTM\")\n",
    "loss_hist[\"test\"][-1], acc_hist[\"test\"][-1]"
   ]
  },
  {
   "cell_type": "code",
   "execution_count": null,
   "id": "split-electricity",
   "metadata": {},
   "outputs": [],
   "source": []
  }
 ],
 "metadata": {
  "kernelspec": {
   "display_name": "Python 3",
   "language": "python",
   "name": "python3"
  },
  "language_info": {
   "codemirror_mode": {
    "name": "ipython",
    "version": 3
   },
   "file_extension": ".py",
   "mimetype": "text/x-python",
   "name": "python",
   "nbconvert_exporter": "python",
   "pygments_lexer": "ipython3",
   "version": "3.8.5"
  }
 },
 "nbformat": 4,
 "nbformat_minor": 5
}
